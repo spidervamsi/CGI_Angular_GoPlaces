{
  "nbformat": 4,
  "nbformat_minor": 0,
  "metadata": {
    "colab": {
      "name": "Sentiment_Analysis_FastText",
      "provenance": [],
      "authorship_tag": "ABX9TyOrlEZMdkvPUHHh6z7rhmbD",
      "include_colab_link": true
    },
    "kernelspec": {
      "name": "python3",
      "display_name": "Python 3"
    }
  },
  "cells": [
    {
      "cell_type": "markdown",
      "metadata": {
        "id": "view-in-github",
        "colab_type": "text"
      },
      "source": [
        "<a href=\"https://colab.research.google.com/github/spidervamsi/CGI_Angular_GoPlaces/blob/master/Sentiment_Analysis_FastText.ipynb\" target=\"_parent\"><img src=\"https://colab.research.google.com/assets/colab-badge.svg\" alt=\"Open In Colab\"/></a>"
      ]
    },
    {
      "cell_type": "code",
      "metadata": {
        "id": "CzFID1k3aUdM",
        "colab_type": "code",
        "outputId": "eb80b48f-53f4-4fd2-ad45-9854e7104c9b",
        "colab": {
          "base_uri": "https://localhost:8080/",
          "height": 54
        }
      },
      "source": [
        "from google.colab import drive\n",
        "drive.mount('/content/gdrive')"
      ],
      "execution_count": 164,
      "outputs": [
        {
          "output_type": "stream",
          "text": [
            "Drive already mounted at /content/gdrive; to attempt to forcibly remount, call drive.mount(\"/content/gdrive\", force_remount=True).\n"
          ],
          "name": "stdout"
        }
      ]
    },
    {
      "cell_type": "code",
      "metadata": {
        "id": "c7_sVoXS3UJI",
        "colab_type": "code",
        "outputId": "72e40e9e-0dba-43fa-b60b-6f787e334b50",
        "colab": {
          "base_uri": "https://localhost:8080/",
          "height": 124
        }
      },
      "source": [
        "!pip install fasttext\n",
        "!pip install emoji"
      ],
      "execution_count": 165,
      "outputs": [
        {
          "output_type": "stream",
          "text": [
            "Requirement already satisfied: fasttext in /usr/local/lib/python3.6/dist-packages (0.9.1)\n",
            "Requirement already satisfied: numpy in /usr/local/lib/python3.6/dist-packages (from fasttext) (1.18.2)\n",
            "Requirement already satisfied: setuptools>=0.7.0 in /usr/local/lib/python3.6/dist-packages (from fasttext) (46.1.3)\n",
            "Requirement already satisfied: pybind11>=2.2 in /usr/local/lib/python3.6/dist-packages (from fasttext) (2.5.0)\n",
            "Requirement already satisfied: emoji in /usr/local/lib/python3.6/dist-packages (0.5.4)\n"
          ],
          "name": "stdout"
        }
      ]
    },
    {
      "cell_type": "code",
      "metadata": {
        "id": "rdzbUaaPamfD",
        "colab_type": "code",
        "outputId": "29988ef5-865a-4f18-fd5f-e15ac8c368d6",
        "colab": {
          "base_uri": "https://localhost:8080/",
          "height": 52
        }
      },
      "source": [
        "import pandas as pd\n",
        "import numpy as np\n",
        "import fasttext\n",
        "import re\n",
        "import sys\n",
        "import os\n",
        "import nltk\n",
        "nltk.download('punkt')\n",
        "import csv\n",
        "import datetime\n",
        "from bs4 import BeautifulSoup\n",
        "import itertools\n",
        "import emoji"
      ],
      "execution_count": 166,
      "outputs": [
        {
          "output_type": "stream",
          "text": [
            "[nltk_data] Downloading package punkt to /root/nltk_data...\n",
            "[nltk_data]   Package punkt is already up-to-date!\n"
          ],
          "name": "stdout"
        }
      ]
    },
    {
      "cell_type": "code",
      "metadata": {
        "id": "RqmSxIrVmjMa",
        "colab_type": "code",
        "colab": {}
      },
      "source": [
        "\n",
        "# emoticons\n",
        "def load_dict_smileys():\n",
        "    \n",
        "    return {\n",
        "        \":‑)\":\"smiley\",\n",
        "  \n",
        "      \":-]\":\"smiley\",\n",
        "        \":-3\":\"smiley\",\n",
        "        \":->\":\"smiley\",\n",
        "        \"8-)\":\"smiley\",\n",
        "        \":-}\":\"smiley\",\n",
        "        \":)\":\"smiley\",\n",
        "        \":]\":\"smiley\",\n",
        "        \":3\":\"smiley\",\n",
        "        \":>\":\"smiley\",\n",
        "        \"8)\":\"smiley\",\n",
        "        \":}\":\"smiley\",\n",
        "        \":o)\":\"smiley\",\n",
        "        \":c)\":\"smiley\",\n",
        "        \":^)\":\"smiley\",\n",
        "        \"=]\":\"smiley\",\n",
        "        \"=)\":\"smiley\",\n",
        "        \":-))\":\"smiley\",\n",
        "        \":‑D\":\"smiley\",\n",
        "        \"8‑D\":\"smiley\",\n",
        "        \"x‑D\":\"smiley\",\n",
        "        \"X‑D\":\"smiley\",\n",
        "        \":D\":\"smiley\",\n",
        "        \"8D\":\"smiley\",\n",
        "        \"xD\":\"smiley\",\n",
        "        \"XD\":\"smiley\",\n",
        "        \":‑(\":\"sad\",\n",
        "        \":‑c\":\"sad\",\n",
        "        \":‑<\":\"sad\",\n",
        "        \":‑[\":\"sad\",\n",
        "        \":(\":\"sad\",\n",
        "        \":c\":\"sad\",\n",
        "        \":<\":\"sad\",\n",
        "        \":[\":\"sad\",\n",
        "        \":-||\":\"sad\",\n",
        "        \">:[\":\"sad\",\n",
        "        \":{\":\"sad\",\n",
        "        \":@\":\"sad\",\n",
        "        \">:(\":\"sad\",\n",
        "        \":'‑(\":\"sad\",\n",
        "        \":'(\":\"sad\",\n",
        "        \":‑P\":\"playful\",\n",
        "        \"X‑P\":\"playful\",\n",
        "        \"x‑p\":\"playful\",\n",
        "        \":‑p\":\"playful\",\n",
        "        \":‑Þ\":\"playful\",\n",
        "        \":‑þ\":\"playful\",\n",
        "        \":‑b\":\"playful\",\n",
        "        \":P\":\"playful\",\n",
        "        \"XP\":\"playful\",\n",
        "        \"xp\":\"playful\",\n",
        "        \":p\":\"playful\",\n",
        "        \":Þ\":\"playful\",\n",
        "        \":þ\":\"playful\",\n",
        "        \":b\":\"playful\",\n",
        "        \"<3\":\"love\"\n",
        "        }\n",
        "\n",
        "# self defined contractions\n",
        "def load_dict_contractions():\n",
        "    \n",
        "    return {\n",
        "        \"ain't\":\"is not\",\n",
        "        \"amn't\":\"am not\",\n",
        "        \"aren't\":\"are not\",\n",
        "        \"can't\":\"cannot\",\n",
        "        \"'cause\":\"because\",\n",
        "        \"couldn't\":\"could not\",\n",
        "        \"couldn't've\":\"could not have\",\n",
        "        \"could've\":\"could have\",\n",
        "        \"daren't\":\"dare not\",\n",
        "        \"daresn't\":\"dare not\",\n",
        "        \"dasn't\":\"dare not\",\n",
        "        \"didn't\":\"did not\",\n",
        "        \"doesn't\":\"does not\",\n",
        "        \"don't\":\"do not\",\n",
        "        \"e'er\":\"ever\",\n",
        "        \"em\":\"them\",\n",
        "        \"everyone's\":\"everyone is\",\n",
        "        \"finna\":\"fixing to\",\n",
        "        \"gimme\":\"give me\",\n",
        "        \"gonna\":\"going to\",\n",
        "        \"gon't\":\"go not\",\n",
        "        \"gotta\":\"got to\",\n",
        "        \"hadn't\":\"had not\",\n",
        "        \"hasn't\":\"has not\",\n",
        "        \"haven't\":\"have not\",\n",
        "        \"he'd\":\"he would\",\n",
        "        \"he'll\":\"he will\",\n",
        "        \"he's\":\"he is\",\n",
        "        \"he've\":\"he have\",\n",
        "        \"how'd\":\"how would\",\n",
        "        \"how'll\":\"how will\",\n",
        "        \"how're\":\"how are\",\n",
        "        \"how's\":\"how is\",\n",
        "        \"I'd\":\"I would\",\n",
        "        \"I'll\":\"I will\",\n",
        "        \"I'm\":\"I am\",\n",
        "        \"I'm'a\":\"I am about to\",\n",
        "        \"I'm'o\":\"I am going to\",\n",
        "        \"isn't\":\"is not\",\n",
        "        \"it'd\":\"it would\",\n",
        "        \"it'll\":\"it will\",\n",
        "        \"it's\":\"it is\",\n",
        "        \"I've\":\"I have\",\n",
        "        \"kinda\":\"kind of\",\n",
        "        \"let's\":\"let us\",\n",
        "        \"mayn't\":\"may not\",\n",
        "        \"may've\":\"may have\",\n",
        "        \"mightn't\":\"might not\",\n",
        "        \"might've\":\"might have\",\n",
        "        \"mustn't\":\"must not\",\n",
        "        \"mustn't've\":\"must not have\",\n",
        "        \"must've\":\"must have\",\n",
        "        \"needn't\":\"need not\",\n",
        "        \"ne'er\":\"never\",\n",
        "        \"o'\":\"of\",\n",
        "        \"o'er\":\"over\",\n",
        "        \"ol'\":\"old\",\n",
        "        \"oughtn't\":\"ought not\",\n",
        "        \"shalln't\":\"shall not\",\n",
        "        \"shan't\":\"shall not\",\n",
        "        \"she'd\":\"she would\",\n",
        "        \"she'll\":\"she will\",\n",
        "        \"she's\":\"she is\",\n",
        "        \"shouldn't\":\"should not\",\n",
        "        \"shouldn't've\":\"should not have\",\n",
        "        \"should've\":\"should have\",\n",
        "        \"somebody's\":\"somebody is\",\n",
        "        \"someone's\":\"someone is\",\n",
        "        \"something's\":\"something is\",\n",
        "        \"that'd\":\"that would\",\n",
        "        \"that'll\":\"that will\",\n",
        "        \"that're\":\"that are\",\n",
        "        \"that's\":\"that is\",\n",
        "        \"there'd\":\"there would\",\n",
        "        \"there'll\":\"there will\",\n",
        "        \"there're\":\"there are\",\n",
        "        \"there's\":\"there is\",\n",
        "        \"these're\":\"these are\",\n",
        "        \"they'd\":\"they would\",\n",
        "        \"they'll\":\"they will\",\n",
        "        \"they're\":\"they are\",\n",
        "        \"they've\":\"they have\",\n",
        "        \"this's\":\"this is\",\n",
        "        \"those're\":\"those are\",\n",
        "        \"'tis\":\"it is\",\n",
        "        \"'twas\":\"it was\",\n",
        "        \"wanna\":\"want to\",\n",
        "        \"wasn't\":\"was not\",\n",
        "        \"we'd\":\"we would\",\n",
        "        \"we'd've\":\"we would have\",\n",
        "        \"we'll\":\"we will\",\n",
        "        \"we're\":\"we are\",\n",
        "        \"weren't\":\"were not\",\n",
        "        \"we've\":\"we have\",\n",
        "        \"what'd\":\"what did\",\n",
        "        \"what'll\":\"what will\",\n",
        "        \"what're\":\"what are\",\n",
        "        \"what's\":\"what is\",\n",
        "        \"what've\":\"what have\",\n",
        "        \"when's\":\"when is\",\n",
        "        \"where'd\":\"where did\",\n",
        "        \"where're\":\"where are\",\n",
        "        \"where's\":\"where is\",\n",
        "        \"where've\":\"where have\",\n",
        "        \"which's\":\"which is\",\n",
        "        \"who'd\":\"who would\",\n",
        "        \"who'd've\":\"who would have\",\n",
        "        \"who'll\":\"who will\",\n",
        "        \"who're\":\"who are\",\n",
        "        \"who's\":\"who is\",\n",
        "        \"who've\":\"who have\",\n",
        "        \"why'd\":\"why did\",\n",
        "        \"why're\":\"why are\",\n",
        "        \"why's\":\"why is\",\n",
        "        \"won't\":\"will not\",\n",
        "        \"wouldn't\":\"would not\",\n",
        "        \"would've\":\"would have\",\n",
        "        \"y'all\":\"you all\",\n",
        "        \"you'd\":\"you would\",\n",
        "        \"you'll\":\"you will\",\n",
        "        \"you're\":\"you are\",\n",
        "        \"you've\":\"you have\",\n",
        "        \"Whatcha\":\"What are you\",\n",
        "        \"luv\":\"love\",\n",
        "        \"sux\":\"sucks\"\n",
        "        }"
      ],
      "execution_count": 0,
      "outputs": []
    },
    {
      "cell_type": "code",
      "metadata": {
        "id": "iVaWz8QIbRNJ",
        "colab_type": "code",
        "colab": {}
      },
      "source": [
        "import re\n",
        "import string\n",
        "from bs4 import BeautifulSoup\n",
        "\n",
        "#for tweet in tweet_data:\n",
        "def preprocess_tweet(tweet):\n",
        "    #Escaping HTML characters\n",
        "    tweet = BeautifulSoup(tweet).get_text()\n",
        "   \n",
        "    #Special case not handled previously.\n",
        "    tweet = tweet.replace('\\x92',\"'\")\n",
        "    \n",
        "    #Removal of hastags/account\n",
        "    tweet = ' '.join(re.sub(\"(@[A-Za-z0-9]+)|(#[A-Za-z0-9]+)\", \" \", tweet).split())\n",
        "    \n",
        "    #Removal of address\n",
        "    tweet = ' '.join(re.sub(\"(\\w+:\\/\\/\\S+)\", \" \", tweet).split())\n",
        "    \n",
        "    #Removal of Punctuation\n",
        "    tweet = ' '.join(re.sub(\"[\\.\\,\\!\\?\\<\\>\\:\\;\\-\\=]\", \" \", tweet).split())\n",
        "    \n",
        "    #Lower case\n",
        "    tweet = tweet.lower()\n",
        "    \n",
        "    #CONTRACTIONS source: https://en.wikipedia.org/wiki/Contraction_%28grammar%29\n",
        "    CONTRACTIONS = load_dict_contractions()\n",
        "    tweet = tweet.replace(\"’\",\"'\")\n",
        "    words = tweet.split()\n",
        "    reformed = [CONTRACTIONS[word] if word in CONTRACTIONS else word for word in words]\n",
        "    tweet = \" \".join(reformed)\n",
        "    \n",
        "    # Standardizing words\n",
        "    tweet = ''.join(''.join(s)[:2] for _, s in itertools.groupby(tweet))\n",
        "    \n",
        "    #Deal with emoticons source: https://en.wikipedia.org/wiki/List_of_emoticons\n",
        "    SMILEY = load_dict_smileys()  \n",
        "    words = tweet.split()\n",
        "    reformed = [SMILEY[word] if word in SMILEY else word for word in words]\n",
        "    tweet = \" \".join(reformed)\n",
        "    \n",
        "    #Deal with emojis\n",
        "    tweet = emoji.demojize(tweet)\n",
        "\n",
        "    tweet = tweet.replace(\":\",\" \")\n",
        "    tweet = ' '.join(tweet.split())\n",
        "\n",
        "    return tweet\n",
        "    "
      ],
      "execution_count": 0,
      "outputs": []
    },
    {
      "cell_type": "code",
      "metadata": {
        "id": "AErKBxqOx5Uy",
        "colab_type": "code",
        "outputId": "820586c9-0b0b-472a-d8c1-0b5aac4d1e2b",
        "colab": {
          "base_uri": "https://localhost:8080/",
          "height": 106
        }
      },
      "source": [
        "\n",
        "\n",
        "count = 0\n",
        "usecols = (2,4)\n",
        "dataframe = pd.read_table(\"/content/task1_training.tsv\",usecols=usecols)\n",
        "with open('SE_train.txt', 'w') as txtoutfile:\n",
        "  for tweet in dataframe.iterrows():\n",
        "    if tweet[1][1] == 0:\n",
        "      count = count+1\n",
        "    if tweet[1][1] == 0 and count > 100:\n",
        "      continue\n",
        "    tweet_txt = preprocess_tweet(tweet[1][0])\n",
        "    if tweet_txt == \"\":\n",
        "      continue\n",
        "    txtoutfile.write('__label__'+str(tweet[1][1])+\"\\t\"+ tweet_txt+'\\n' )\n"
      ],
      "execution_count": 169,
      "outputs": [
        {
          "output_type": "stream",
          "text": [
            "/usr/local/lib/python3.6/dist-packages/bs4/__init__.py:336: UserWarning: \"https://t.co/oewqnWJA4k\" looks like a URL. Beautiful Soup is not an HTTP client. You should probably use an HTTP client like requests to get the document behind the URL, and feed that document to Beautiful Soup.\n",
            "  ' that document to Beautiful Soup.' % decoded_markup\n",
            "/usr/local/lib/python3.6/dist-packages/bs4/__init__.py:336: UserWarning: \"https://t.co/29HB3YRChW\" looks like a URL. Beautiful Soup is not an HTTP client. You should probably use an HTTP client like requests to get the document behind the URL, and feed that document to Beautiful Soup.\n",
            "  ' that document to Beautiful Soup.' % decoded_markup\n"
          ],
          "name": "stderr"
        }
      ]
    },
    {
      "cell_type": "code",
      "metadata": {
        "id": "sBIb_lu72OIK",
        "colab_type": "code",
        "colab": {}
      },
      "source": [
        "usecols = (2,4)\n",
        "count = 0\n",
        "act={}\n",
        "act[0]=0\n",
        "act[1]=0\n",
        "dataframe = pd.read_table(\"/content/task1_validation.tsv\",usecols=usecols)\n",
        "with open('SE_valid.txt', 'w') as txtoutfile:\n",
        "  for tweet in dataframe.iterrows():\n",
        "    if tweet[1][1] == 0:\n",
        "      count = count+1\n",
        "    if tweet[1][1] == 0 and count > 100:\n",
        "      continue\n",
        "    tweet_txt = preprocess_tweet(tweet[1][0])\n",
        "    if tweet_txt == \"\":\n",
        "      continue\n",
        "    act[tweet[1][1]] = act[tweet[1][1]]+1\n",
        "    txtoutfile.write('__label__'+str(tweet[1][1])+\"\\t\"+ tweet_txt+'\\n' )\n",
        "\n"
      ],
      "execution_count": 0,
      "outputs": []
    },
    {
      "cell_type": "code",
      "metadata": {
        "id": "sAbREZOO2vP1",
        "colab_type": "code",
        "colab": {}
      },
      "source": [
        "results = []\n",
        "model= None\n",
        "def train(training_data_path,validation_data_path,samples=1):\n",
        "    print('Training start')\n",
        "    hyper_params = {\"lr\": 0.01,\n",
        "                    \"epoch\": 10,\n",
        "                    \"wordNgrams\": 2,\n",
        "                    \"dim\": 100}\n",
        "    global model\n",
        "    count = 0\n",
        "    usecols = (2,4)\n",
        "    dataframe = pd.read_table(\"/content/task1_training.tsv\",usecols=usecols)\n",
        "    with open('SE_train.txt', 'w') as txtoutfile:\n",
        "      for tweet in dataframe.iterrows():\n",
        "        if tweet[1][1] == 0:\n",
        "          count = count+1\n",
        "        if tweet[1][1] == 0 and count > 100 + 50*samples:\n",
        "          continue\n",
        "        tweet_txt = preprocess_tweet(tweet[1][0])\n",
        "        if tweet_txt == \"\":\n",
        "          continue\n",
        "        txtoutfile.write('__label__'+str(tweet[1][1])+\"\\t\"+ tweet_txt+'\\n' )\n",
        "\n",
        "\n",
        "                            \n",
        "    # Train the model.\n",
        "    model = fasttext.train_supervised(input=training_data_path, **hyper_params)\n",
        "    print(\"Model trained with the hyperparameter \\n {}\".format(hyper_params))\n",
        "\n",
        "    model_acc_validation_set = model.test(validation_data_path)\n",
        "    \n",
        "    # DISPLAY ACCURACY OF TRAINED MODEL\n",
        "    results.append(accuracy())\n",
        "    text_line =  \"validation:\" + str(model_acc_validation_set[1]) + '\\n'\n",
        "    print(text_line)\n"
      ],
      "execution_count": 0,
      "outputs": []
    },
    {
      "cell_type": "code",
      "metadata": {
        "id": "qyvRUyR6hNlm",
        "colab_type": "code",
        "colab": {}
      },
      "source": [
        "def accuracy():\n",
        "  res = {}\n",
        "  tp = 0\n",
        "  tn = 0\n",
        "  fp = 0\n",
        "  fn = 0\n",
        "  with open('SE_train.txt', 'r') as f:\n",
        "    for line in f:\n",
        "      lab,txt = line.split('\\t')\n",
        "      val = model.predict(preprocess_tweet(txt))\n",
        "      \n",
        "      if val[0][0] == '__label__1' and lab == '__label__1':\n",
        "        tp = tp+1\n",
        "      elif val[0][0] == '__label__1' and lab == '__label__0':\n",
        "        tn = tn+1\n",
        "      elif val[0][0] == '__label__0' and lab == '__label__1':\n",
        "        fp = fp+1\n",
        "\n",
        "  p = tp/(tp+tn)\n",
        "  r = tp/(tp+fp)\n",
        "  f = (2*p*r)/(p+r)\n",
        "  return (f,p,r)\n",
        "    \n"
      ],
      "execution_count": 0,
      "outputs": []
    },
    {
      "cell_type": "code",
      "metadata": {
        "id": "ihgRhcoBBW1R",
        "colab_type": "code",
        "outputId": "26f5fc89-07e1-48e5-c8d3-cead15a376c2",
        "colab": {
          "base_uri": "https://localhost:8080/",
          "height": 280
        }
      },
      "source": [
        "for i in range(2):\n",
        "  train(\"/content/SE_train.txt\",\"/content/SE_valid.txt\",i)\n"
      ],
      "execution_count": 172,
      "outputs": [
        {
          "output_type": "stream",
          "text": [
            "Training start\n"
          ],
          "name": "stdout"
        },
        {
          "output_type": "stream",
          "text": [
            "/usr/local/lib/python3.6/dist-packages/bs4/__init__.py:336: UserWarning: \"https://t.co/oewqnWJA4k\" looks like a URL. Beautiful Soup is not an HTTP client. You should probably use an HTTP client like requests to get the document behind the URL, and feed that document to Beautiful Soup.\n",
            "  ' that document to Beautiful Soup.' % decoded_markup\n",
            "/usr/local/lib/python3.6/dist-packages/bs4/__init__.py:336: UserWarning: \"https://t.co/29HB3YRChW\" looks like a URL. Beautiful Soup is not an HTTP client. You should probably use an HTTP client like requests to get the document behind the URL, and feed that document to Beautiful Soup.\n",
            "  ' that document to Beautiful Soup.' % decoded_markup\n"
          ],
          "name": "stderr"
        },
        {
          "output_type": "stream",
          "text": [
            "Model trained with the hyperparameter \n",
            " {'lr': 0.01, 'epoch': 10, 'wordNgrams': 2, 'dim': 100}\n",
            "validation:0.6296296296296297\n",
            "\n",
            "Training start\n",
            "Model trained with the hyperparameter \n",
            " {'lr': 0.01, 'epoch': 10, 'wordNgrams': 2, 'dim': 100}\n",
            "validation:0.7333333333333333\n",
            "\n"
          ],
          "name": "stdout"
        }
      ]
    },
    {
      "cell_type": "code",
      "metadata": {
        "id": "k3YLZdHEt3fD",
        "colab_type": "code",
        "colab": {
          "base_uri": "https://localhost:8080/",
          "height": 52
        },
        "outputId": "ae68972d-9479-404c-a54b-94d8d93a1d53"
      },
      "source": [
        "p = []\n",
        "r = []\n",
        "f = []\n",
        "for result in results:\n",
        "  print(result)\n",
        "  f.append(result[0]*100)\n",
        "  p.append(result[1]*100)\n",
        "  r.append(result[2]*100)"
      ],
      "execution_count": 177,
      "outputs": [
        {
          "output_type": "stream",
          "text": [
            "(0.7576791808873721, 0.7551020408163265, 0.7602739726027398)\n",
            "(0.4120603015075377, 0.7735849056603774, 0.2808219178082192)\n"
          ],
          "name": "stdout"
        }
      ]
    },
    {
      "cell_type": "code",
      "metadata": {
        "id": "MYx6aKCcUU1B",
        "colab_type": "code",
        "colab": {}
      },
      "source": [
        ""
      ],
      "execution_count": 0,
      "outputs": []
    },
    {
      "cell_type": "code",
      "metadata": {
        "id": "0VPruSpxqg8k",
        "colab_type": "code",
        "colab": {
          "base_uri": "https://localhost:8080/",
          "height": 308
        },
        "outputId": "c119cd28-7904-4909-dc16-a1477ecd0c5c"
      },
      "source": [
        "import matplotlib.pyplot as plt\n",
        "plt.plot(list(range(100,100+50*len(g),50)),g)\n",
        "plt.ylabel('Validation Accuracy')\n",
        "plt.xlabel('Sampling')\n",
        "plt.suptitle('Sentiment Analysis')\n",
        "plt.show()"
      ],
      "execution_count": 178,
      "outputs": [
        {
          "output_type": "display_data",
          "data": {
            "image/png": "[encoded data removed]",
            "text/plain": [
              "<Figure size 432x288 with 1 Axes>"
            ]
          },
          "metadata": {
            "tags": []
          }
        }
      ]
    },
    {
      "cell_type": "code",
      "metadata": {
        "id": "ymjsQxW4w1P7",
        "colab_type": "code",
        "colab": {
          "base_uri": "https://localhost:8080/",
          "height": 34
        },
        "outputId": "4154291c-043e-47b3-aa02-e2c8c7d61faf"
      },
      "source": [
        "!fasttext supervised -input content/SE_train.txt -output model"
      ],
      "execution_count": 179,
      "outputs": [
        {
          "output_type": "stream",
          "text": [
            "/bin/bash: fasttext: command not found\n"
          ],
          "name": "stdout"
        }
      ]
    }
  ]
}